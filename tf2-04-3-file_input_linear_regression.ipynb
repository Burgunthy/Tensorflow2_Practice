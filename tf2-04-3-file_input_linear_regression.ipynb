{
  "nbformat": 4,
  "nbformat_minor": 0,
  "metadata": {
    "colab": {
      "name": "tf2.ipynb",
      "provenance": [],
      "collapsed_sections": [],
      "mount_file_id": "1ti2E9BmCArOBakWHEduad5GeN4J1dnYU",
      "authorship_tag": "ABX9TyPR3Yf1cVyDjLixUp1sP+NQ",
      "include_colab_link": true
    },
    "kernelspec": {
      "name": "python3",
      "display_name": "Python 3"
    }
  },
  "cells": [
    {
      "cell_type": "markdown",
      "metadata": {
        "id": "view-in-github",
        "colab_type": "text"
      },
      "source": [
        "<a href=\"https://colab.research.google.com/github/Burgunthy/Tensorflow2_Practice/blob/main/tf2-04-3-file_input_linear_regression.ipynb\" target=\"_parent\"><img src=\"https://colab.research.google.com/assets/colab-badge.svg\" alt=\"Open In Colab\"/></a>"
      ]
    },
    {
      "cell_type": "code",
      "metadata": {
        "id": "m9ZLOe_7Uj9m"
      },
      "source": [
        "import tensorflow as tf\n",
        "import numpy as np"
      ],
      "execution_count": 1,
      "outputs": []
    },
    {
      "cell_type": "code",
      "metadata": {
        "id": "FRcwLgA3g-Ri",
        "outputId": "609ce7df-948f-47be-ad39-1dcf88dba1e9",
        "colab": {
          "base_uri": "https://localhost:8080/",
          "height": 269
        }
      },
      "source": [
        "xy = np.loadtxt('./drive/My Drive/Colab Notebooks/tf2_practice/tf2_04_2_data.csv', delimiter=',', dtype=np.float32)       # 기존에 있는 csv 파일 사용\n",
        "# filename_queue = tf.train.string_input_producer([], shuffle=False, name'')\n",
        "# record_defaults = [[][][][]]\n",
        "# xy = tf.decode_csv(value, record_defaults)\n",
        "# if.train.batch([xy[], xy[]], batch_size=10)\n",
        "\n",
        "# file을 여러개 사용한다면 queue 사용.\n",
        "\n",
        "x_data = xy[:, 0:-1]\n",
        "# 앞의 세 행만 불러온다\n",
        "y_data = xy[:, [-1]]\n",
        "# 마지막 항을 불러온다\n",
        "\n",
        "print(x_data, \"\\nx_data shape:\", x_data.shape)\n",
        "print(y_data, \"\\ny_data shape:\", y_data.shape)\n",
        "# x와 y 데이터 shape와 수 확인 len(x_data)도 하면 좋다"
      ],
      "execution_count": 4,
      "outputs": [
        {
          "output_type": "stream",
          "text": [
            "[[ 73.  80.  75.]\n",
            " [ 93.  88.  93.]\n",
            " [ 89.  91.  90.]\n",
            " [ 96.  98. 100.]\n",
            " [ 73.  66.  70.]\n",
            " [ 53.  46.  55.]] \n",
            "x_data shape: (6, 3)\n",
            "[[152.]\n",
            " [185.]\n",
            " [180.]\n",
            " [196.]\n",
            " [142.]\n",
            " [101.]] \n",
            "y_data shape: (6, 1)\n"
          ],
          "name": "stdout"
        }
      ]
    },
    {
      "cell_type": "code",
      "metadata": {
        "id": "XpTqfr0ToltL",
        "outputId": "7221b9ac-66c1-4ea0-c158-46ae1feffeea",
        "colab": {
          "base_uri": "https://localhost:8080/",
          "height": 377
        }
      },
      "source": [
        "tf.model = tf.keras.Sequential()\n",
        "# activation function doesn't have to be added as a separate layer. Add it as an argument of Dense() layer\n",
        "tf.model.add(tf.keras.layers.Dense(units=1, input_dim=3, activation='linear'))\n",
        "# 활성함수로 선형함수 사용\n",
        "\n",
        "tf.model.summary()\n",
        "# 여기는 왜 summary를 먼저 했을까? -> 다를 것이 없다. compile 이전에 원하는 곳에서 확인\n",
        "tf.model.compile(loss='mse', optimizer=tf.keras.optimizers.SGD(lr=1e-5))\n",
        "tf.model.summary()"
      ],
      "execution_count": 6,
      "outputs": [
        {
          "output_type": "stream",
          "text": [
            "Model: \"sequential_2\"\n",
            "_________________________________________________________________\n",
            "Layer (type)                 Output Shape              Param #   \n",
            "=================================================================\n",
            "dense_2 (Dense)              (None, 1)                 4         \n",
            "=================================================================\n",
            "Total params: 4\n",
            "Trainable params: 4\n",
            "Non-trainable params: 0\n",
            "_________________________________________________________________\n",
            "Model: \"sequential_2\"\n",
            "_________________________________________________________________\n",
            "Layer (type)                 Output Shape              Param #   \n",
            "=================================================================\n",
            "dense_2 (Dense)              (None, 1)                 4         \n",
            "=================================================================\n",
            "Total params: 4\n",
            "Trainable params: 4\n",
            "Non-trainable params: 0\n",
            "_________________________________________________________________\n"
          ],
          "name": "stdout"
        }
      ]
    },
    {
      "cell_type": "code",
      "metadata": {
        "id": "6h4wcZnZovm8"
      },
      "source": [
        "tf.model.compile(loss='mse', optimizer=tf.keras.optimizers.SGD(lr=1e-5))\n",
        "history = tf.model.fit(x_data, y_data, epochs=2000)\n",
        "# model.fit(data, labels, batch_size=32, epochs=5) 위치 파악 필요"
      ],
      "execution_count": null,
      "outputs": []
    },
    {
      "cell_type": "code",
      "metadata": {
        "id": "pdLllh-bo7Lk",
        "outputId": "8b7ae286-9e93-4dd8-b0b3-ad98654483ac",
        "colab": {
          "base_uri": "https://localhost:8080/",
          "height": 71
        }
      },
      "source": [
        "# Ask my score\n",
        "print(\"Your score will be \", tf.model.predict([[100, 70, 101]]))\n",
        "print(\"Other scores will be \", tf.model.predict([[60, 70, 110], [90, 100, 80]]))"
      ],
      "execution_count": 8,
      "outputs": [
        {
          "output_type": "stream",
          "text": [
            "Your score will be  [[173.03482]]\n",
            "Other scores will be  [[192.31229]\n",
            " [177.24442]]\n"
          ],
          "name": "stdout"
        }
      ]
    }
  ]
}