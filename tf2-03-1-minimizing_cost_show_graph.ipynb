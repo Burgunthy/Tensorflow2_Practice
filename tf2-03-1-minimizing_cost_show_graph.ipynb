{
  "nbformat": 4,
  "nbformat_minor": 0,
  "metadata": {
    "colab": {
      "name": "tf2.ipynb",
      "provenance": [],
      "collapsed_sections": [],
      "authorship_tag": "ABX9TyMTtTSJo2If/7kMFVNA8Wek",
      "include_colab_link": true
    },
    "kernelspec": {
      "name": "python3",
      "display_name": "Python 3"
    }
  },
  "cells": [
    {
      "cell_type": "markdown",
      "metadata": {
        "id": "view-in-github",
        "colab_type": "text"
      },
      "source": [
        "<a href=\"https://colab.research.google.com/github/Burgunthy/MNIST_Tensorflow2/blob/main/tf2-03-1-minimizing_cost_show_graph.ipynb\" target=\"_parent\"><img src=\"https://colab.research.google.com/assets/colab-badge.svg\" alt=\"Open In Colab\"/></a>"
      ]
    },
    {
      "cell_type": "code",
      "metadata": {
        "id": "m9ZLOe_7Uj9m"
      },
      "source": [
        "import numpy as np\n",
        "import tensorflow as tf\n",
        "import matplotlib.pyplot as plt                             # 그래프 확인 함수 선언"
      ],
      "execution_count": 2,
      "outputs": []
    },
    {
      "cell_type": "code",
      "metadata": {
        "id": "Fm6xO-ekWVjf"
      },
      "source": [
        "x_train = [1, 2, 3, 4]\n",
        "y_train = [0, -1, -2, -3]\n",
        "\n",
        "tf.model = tf.keras.Sequential()\n",
        "tf.model.add(tf.keras.layers.Dense(units=1, input_dim=1))\n",
        "\n",
        "sgd = tf.keras.optimizers.SGD(lr=0.1)\n",
        "tf.model.compile(loss='mse', optimizer=sgd)\n",
        "\n",
        "tf.model.summary()\n",
        "\n",
        "# fit() trains the model and returns history of train\n",
        "history = tf.model.fit(x_train, y_train, epochs=100)        # model.fit을 history로 저장\n",
        "\n",
        "y_predict = tf.model.predict(np.array([5, 4]))\n",
        "print(y_predict)                                            # 이전 진행했던 2-1의 linear regression"
      ],
      "execution_count": null,
      "outputs": []
    },
    {
      "cell_type": "code",
      "metadata": {
        "id": "zfHrHx9Dblpe",
        "outputId": "775c6ed0-c26f-46bf-c0c4-c7d22794d5ab",
        "colab": {
          "base_uri": "https://localhost:8080/",
          "height": 313
        }
      },
      "source": [
        "# Plot training & validation loss values\n",
        "print(history.history.keys())                               # 현재는 loss만 확인 가능\n",
        "\n",
        "plt.plot(history.history['loss'])                           # loss의 history 확인\n",
        "\n",
        "                                                            # loss : 훈련 손실값\n",
        "                                                            # acc : 훈련 정확도\n",
        "                                                            # val_loss : 검증 손실값\n",
        "                                                            # val_acc : 검증 정확도\n",
        "\n",
        "plt.title('Model loss')                                     # 모델의 이름 설정\n",
        "plt.ylabel('Loss')                                          # 모델의 y축 이름 설정\n",
        "plt.xlabel('Epoch')                                         # 모델의 x축 이름 설정    \n",
        "plt.legend(['Train', 'Test'], loc='upper left')             # \n",
        "plt.show()                                                  # 그래프 plot"
      ],
      "execution_count": 12,
      "outputs": [
        {
          "output_type": "stream",
          "text": [
            "dict_keys(['loss'])\n"
          ],
          "name": "stdout"
        },
        {
          "output_type": "display_data",
          "data": {
            "image/png": "[encoded data removed]",
            "text/plain": [
              "<Figure size 432x288 with 1 Axes>"
            ]
          },
          "metadata": {
            "tags": [],
            "needs_background": "light"
          }
        }
      ]
    }
  ]
}