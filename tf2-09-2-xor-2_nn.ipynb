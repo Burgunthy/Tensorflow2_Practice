{
  "nbformat": 4,
  "nbformat_minor": 0,
  "metadata": {
    "colab": {
      "name": "tf2.ipynb",
      "provenance": [],
      "collapsed_sections": [],
      "mount_file_id": "1ti2E9BmCArOBakWHEduad5GeN4J1dnYU",
      "authorship_tag": "ABX9TyPnFv+/tI2DIHfJWNPiigZK",
      "include_colab_link": true
    },
    "kernelspec": {
      "name": "python3",
      "display_name": "Python 3"
    },
    "accelerator": "GPU"
  },
  "cells": [
    {
      "cell_type": "markdown",
      "metadata": {
        "id": "view-in-github",
        "colab_type": "text"
      },
      "source": [
        "<a href=\"https://colab.research.google.com/github/Burgunthy/Tensorflow2_Practice/blob/main/tf2-09-2-xor-2_nn.ipynb\" target=\"_parent\"><img src=\"https://colab.research.google.com/assets/colab-badge.svg\" alt=\"Open In Colab\"/></a>"
      ]
    },
    {
      "cell_type": "code",
      "metadata": {
        "id": "-2nnfdRQUqge"
      },
      "source": [
        "# XOR 구하기 1\n",
        "import datetime\n",
        "import numpy as np\n",
        "import os\n",
        "import tensorflow as tf"
      ],
      "execution_count": null,
      "outputs": []
    },
    {
      "cell_type": "code",
      "metadata": {
        "id": "sFajaD4AUs8z"
      },
      "source": [
        "x_data = np.array([[0, 0], [0, 1], [1, 0], [1, 1]], dtype=np.float32)\n",
        "y_data = np.array([[0], [1], [1], [0]], dtype=np.float32)\n",
        "# X 값에 따른 XOR output 설정"
      ],
      "execution_count": null,
      "outputs": []
    },
    {
      "cell_type": "code",
      "metadata": {
        "id": "IiMCVYWKUueM",
        "outputId": "2f8d71b2-0f2c-4008-f074-cf8e2667db72",
        "colab": {
          "base_uri": "https://localhost:8080/",
          "height": 305
        }
      },
      "source": [
        "tf.model = tf.keras.Sequential()\n",
        "tf.model.add(tf.keras.layers.Dense(units=2, input_dim=2))\n",
        "tf.model.add(tf.keras.layers.Activation('sigmoid'))\n",
        "tf.model.add(tf.keras.layers.Dense(units=1, input_dim=2))\n",
        "tf.model.add(tf.keras.layers.Activation('sigmoid'))\n",
        "# 2 -> 2 -> 1 의 형태 CNN 생성\n",
        "# 이때 sigmoid가 아닌 ReLU 사용 시 더욱 높은 결과 출력 가능\n",
        "\n",
        "tf.model.compile(loss='binary_crossentropy', optimizer=tf.optimizers.SGD(lr=0.1),  metrics=['accuracy'])\n",
        "tf.model.summary()"
      ],
      "execution_count": null,
      "outputs": [
        {
          "output_type": "stream",
          "text": [
            "Model: \"sequential\"\n",
            "_________________________________________________________________\n",
            "Layer (type)                 Output Shape              Param #   \n",
            "=================================================================\n",
            "dense (Dense)                (None, 2)                 6         \n",
            "_________________________________________________________________\n",
            "activation (Activation)      (None, 2)                 0         \n",
            "_________________________________________________________________\n",
            "dense_1 (Dense)              (None, 1)                 3         \n",
            "_________________________________________________________________\n",
            "activation_1 (Activation)    (None, 1)                 0         \n",
            "=================================================================\n",
            "Total params: 9\n",
            "Trainable params: 9\n",
            "Non-trainable params: 0\n",
            "_________________________________________________________________\n"
          ],
          "name": "stdout"
        }
      ]
    },
    {
      "cell_type": "code",
      "metadata": {
        "id": "MC1vxYph8raR"
      },
      "source": [
        "#log_dir = os.path.join(\".\", \"logs\", \"fit\", datetime.datetime.now().strftime(\"%Y%m%d-%H%M%S\"))\n",
        "#tensorboard_callback = tf.keras.callbacks.TensorBoard(log_dir=log_dir, histogram_freq=1)\n",
        "\n",
        "# Tensorboard 사용. -> final project 참고"
      ],
      "execution_count": null,
      "outputs": []
    },
    {
      "cell_type": "code",
      "metadata": {
        "id": "md3BFDj18pCy"
      },
      "source": [
        "history = tf.model.fit(x_data, y_data, epochs=2500)\n",
        "# epochs = 1000 -> acc : 0.5\n",
        "\n",
        "# history = tf.model.fit(x_data, y_data, epochs=25000, callbacks=[tensorboard_callback])    텐서 보드 생성 가능"
      ],
      "execution_count": null,
      "outputs": []
    },
    {
      "cell_type": "code",
      "metadata": {
        "id": "D3haoznDUxPE",
        "outputId": "10802c1f-0fa5-4eda-ecae-7f4d376f285c",
        "colab": {
          "base_uri": "https://localhost:8080/",
          "height": 143
        }
      },
      "source": [
        "predictions = tf.model.predict(x_data)\n",
        "print('Prediction: \\n', predictions)\n",
        "# 예측 모델\n",
        "\n",
        "score = tf.model.evaluate(x_data, y_data)\n",
        "# 확인 모델\n",
        "# score[0] = loss, score[1] = acc\n",
        "\n",
        "print('Accuracy: ', score[1])"
      ],
      "execution_count": 7,
      "outputs": [
        {
          "output_type": "stream",
          "text": [
            "Prediction: \n",
            " [[0.40720236]\n",
            " [0.48251516]\n",
            " [0.7679751 ]\n",
            " [0.38328117]]\n",
            "1/1 [==============================] - 0s 1ms/step - loss: 0.4997 - accuracy: 0.7500\n",
            "Accuracy:  0.75\n"
          ],
          "name": "stdout"
        }
      ]
    }
  ]
}