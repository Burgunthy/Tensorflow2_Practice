{
  "nbformat": 4,
  "nbformat_minor": 0,
  "metadata": {
    "colab": {
      "name": "tf2.ipynb",
      "provenance": [],
      "collapsed_sections": [],
      "mount_file_id": "1ti2E9BmCArOBakWHEduad5GeN4J1dnYU",
      "authorship_tag": "ABX9TyMiOKdiTxyjEQbZ7/5KTGJ4",
      "include_colab_link": true
    },
    "kernelspec": {
      "name": "python3",
      "display_name": "Python 3"
    },
    "accelerator": "GPU"
  },
  "cells": [
    {
      "cell_type": "markdown",
      "metadata": {
        "id": "view-in-github",
        "colab_type": "text"
      },
      "source": [
        "<a href=\"https://colab.research.google.com/github/Burgunthy/Tensorflow2_Practice/blob/main/tf2-09-2-xor-2_nn.ipynb\" target=\"_parent\"><img src=\"https://colab.research.google.com/assets/colab-badge.svg\" alt=\"Open In Colab\"/></a>"
      ]
    },
    {
      "cell_type": "code",
      "metadata": {
        "id": "-2nnfdRQUqge"
      },
      "source": [
        "# XOR 구하기 1\n",
        "import tensorflow as tf\n",
        "import numpy as np"
      ],
      "execution_count": null,
      "outputs": []
    },
    {
      "cell_type": "code",
      "metadata": {
        "id": "sFajaD4AUs8z"
      },
      "source": [
        "x_data = np.array([[0, 0], [0, 1], [1, 0], [1, 1]], dtype=np.float32)\n",
        "y_data = np.array([[0], [1], [1], [0]], dtype=np.float32)\n",
        "# X 값에 따른 XOR output 설정"
      ],
      "execution_count": null,
      "outputs": []
    },
    {
      "cell_type": "code",
      "metadata": {
        "id": "IiMCVYWKUueM"
      },
      "source": [
        "tf.model = tf.keras.Sequential()\n",
        "tf.model.add(tf.keras.layers.Dense(units=2, input_dim=2))\n",
        "tf.model.add(tf.keras.layers.Activation('sigmoid'))\n",
        "tf.model.add(tf.keras.layers.Dense(units=1, input_dim=2))\n",
        "tf.model.add(tf.keras.layers.Activation('sigmoid'))\n",
        "# 2 -> 2 -> 1 의 형태 CNN 생성\n",
        "# 이때 sigmoid가 아닌 ReLU 사용 시 더욱 높은 결과 출력 가능\n",
        "\n",
        "tf.model.compile(loss='binary_crossentropy', optimizer=tf.optimizers.SGD(lr=0.1),  metrics=['accuracy'])\n",
        "tf.model.summary()\n",
        "\n",
        "history = tf.model.fit(x_data, y_data, epochs=10000)\n",
        "# epochs = 1000 -> acc : 0.5"
      ],
      "execution_count": null,
      "outputs": []
    },
    {
      "cell_type": "code",
      "metadata": {
        "id": "D3haoznDUxPE"
      },
      "source": [
        "predictions = tf.model.predict(x_data)\n",
        "print('Prediction: \\n', predictions)\n",
        "# 예측 모델\n",
        "\n",
        "score = tf.model.evaluate(x_data, y_data)\n",
        "# 확인 모델\n",
        "# score[0] = loss, score[1] = acc\n",
        "\n",
        "print('Accuracy: ', score[1])"
      ],
      "execution_count": null,
      "outputs": []
    }
  ]
}