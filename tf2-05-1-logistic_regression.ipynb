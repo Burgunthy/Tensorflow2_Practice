{
  "nbformat": 4,
  "nbformat_minor": 0,
  "metadata": {
    "colab": {
      "name": "tf2.ipynb",
      "provenance": [],
      "collapsed_sections": [],
      "mount_file_id": "1ti2E9BmCArOBakWHEduad5GeN4J1dnYU",
      "authorship_tag": "ABX9TyOnLv1rJtWT1ju/7o3nSz2P",
      "include_colab_link": true
    },
    "kernelspec": {
      "name": "python3",
      "display_name": "Python 3"
    },
    "accelerator": "GPU"
  },
  "cells": [
    {
      "cell_type": "markdown",
      "metadata": {
        "id": "view-in-github",
        "colab_type": "text"
      },
      "source": [
        "<a href=\"https://colab.research.google.com/github/Burgunthy/Tensorflow2_Practice/blob/main/tf2-05-1-logistic_regression.ipynb\" target=\"_parent\"><img src=\"https://colab.research.google.com/assets/colab-badge.svg\" alt=\"Open In Colab\"/></a>"
      ]
    },
    {
      "cell_type": "code",
      "metadata": {
        "id": "oJHxgWQXi51D"
      },
      "source": [
        "# Lab 5 Logistic Regression Classifier\n",
        "import tensorflow as tf"
      ],
      "execution_count": null,
      "outputs": []
    },
    {
      "cell_type": "code",
      "metadata": {
        "id": "Toz1tG1vi6Hs"
      },
      "source": [
        "x_data = [[1, 2],\n",
        "          [2, 3],\n",
        "          [3, 1],\n",
        "          [4, 3],\n",
        "          [5, 3],\n",
        "          [6, 2]]\n",
        "y_data = [[0],\n",
        "          [0],\n",
        "          [0],\n",
        "          [1],\n",
        "          [1],\n",
        "          [1]]"
      ],
      "execution_count": null,
      "outputs": []
    },
    {
      "cell_type": "code",
      "metadata": {
        "id": "834VuMtHnpaq"
      },
      "source": [
        "tf.model = tf.keras.Sequential()\n",
        "tf.model.add(tf.keras.layers.Dense(units=1, input_dim=2))\n",
        "# input으로 2개의 값 입력\n",
        "\n",
        "tf.model.add(tf.keras.layers.Activation('sigmoid'))\n",
        "# sigmoid 함수 이용\n",
        "\n",
        "tf.model.compile(loss='binary_crossentropy', optimizer=tf.keras.optimizers.SGD(lr=0.01), metrics=['accuracy'])\n",
        "# binary_crossentropy 사용, 메트릭스를 이용해 accuracy 추가\n",
        "\n",
        "tf.model.summary()\n",
        "\n",
        "history = tf.model.fit(x_data, y_data, epochs=5000)"
      ],
      "execution_count": null,
      "outputs": []
    },
    {
      "cell_type": "code",
      "metadata": {
        "id": "0WQ3TcuroumE",
        "outputId": "48f83ba2-e7bf-4fe5-c842-7eab46641dec",
        "colab": {
          "base_uri": "https://localhost:8080/",
          "height": 35
        }
      },
      "source": [
        "# Accuracy report\n",
        "print(\"Loss : \", history.history['loss'][-1], \"Accuracy: \", history.history['accuracy'][-1])\n",
        "# 마지막 acc 출력, BCE"
      ],
      "execution_count": null,
      "outputs": [
        {
          "output_type": "stream",
          "text": [
            "Loss :  0.22665290534496307 Accuracy:  1.0\n"
          ],
          "name": "stdout"
        }
      ]
    },
    {
      "cell_type": "code",
      "metadata": {
        "id": "9U22BHWVo-jM"
      },
      "source": [
        "tf.model = tf.keras.Sequential()\n",
        "tf.model.add(tf.keras.layers.Dense(units=1, input_dim=2))\n",
        "# input으로 2개의 값 입력\n",
        "\n",
        "tf.model.add(tf.keras.layers.Activation('sigmoid'))\n",
        "# sigmoid 함수 이용\n",
        "\n",
        "tf.model.compile(loss='binary_crossentropy', optimizer=tf.keras.optimizers.SGD(lr=0.01), metrics=['accuracy'])\n",
        "# binary_crossentropy 사용, 메트릭스를 이용해 accuracy 추가\n",
        "\n",
        "tf.model.summary()\n",
        "\n",
        "history = tf.model.fit(x_data, y_data, epochs=5000)"
      ],
      "execution_count": null,
      "outputs": []
    },
    {
      "cell_type": "code",
      "metadata": {
        "id": "SaCRDnz-o_Sh",
        "outputId": "1b31fa32-91e6-4b36-c7fa-2372d6b67862",
        "colab": {
          "base_uri": "https://localhost:8080/",
          "height": 35
        }
      },
      "source": [
        "# 4000 epoch에서 acc = 1 결과의 큰 차이는 모르겠다\n",
        "print(\"Loss : \", history.history['loss'][-1], \"Accuracy: \", history.history['accuracy'][-1])\n",
        "# 마지막 acc 출력 MSE"
      ],
      "execution_count": 9,
      "outputs": [
        {
          "output_type": "stream",
          "text": [
            "Loss :  0.22600293159484863 Accuracy:  1.0\n"
          ],
          "name": "stdout"
        }
      ]
    }
  ]
}