{
  "nbformat": 4,
  "nbformat_minor": 0,
  "metadata": {
    "colab": {
      "name": "tf2.ipynb",
      "provenance": [],
      "collapsed_sections": [],
      "mount_file_id": "1ti2E9BmCArOBakWHEduad5GeN4J1dnYU",
      "authorship_tag": "ABX9TyNb1xRHvxIvwvIycb1Bvxid",
      "include_colab_link": true
    },
    "kernelspec": {
      "name": "python3",
      "display_name": "Python 3"
    },
    "accelerator": "GPU"
  },
  "cells": [
    {
      "cell_type": "markdown",
      "metadata": {
        "id": "view-in-github",
        "colab_type": "text"
      },
      "source": [
        "<a href=\"https://colab.research.google.com/github/Burgunthy/Tensorflow2_Practice/blob/main/tf2-12-1-hello-rnn.ipynb\" target=\"_parent\"><img src=\"https://colab.research.google.com/assets/colab-badge.svg\" alt=\"Open In Colab\"/></a>"
      ]
    },
    {
      "cell_type": "code",
      "metadata": {
        "id": "cMhUoGRPKcsm"
      },
      "source": [
        "# hihello 입력 후 다음 문자 출력 함수 생성\n",
        "\n",
        "import numpy as np\n",
        "import tensorflow as tf"
      ],
      "execution_count": 1,
      "outputs": []
    },
    {
      "cell_type": "code",
      "metadata": {
        "id": "eUbm6aNxKe39",
        "outputId": "a4d31119-f8ef-4743-f512-81b7434d6952",
        "colab": {
          "base_uri": "https://localhost:8080/",
          "height": 53
        }
      },
      "source": [
        "idx2char = ['h', 'i', 'e', 'l', 'o']\n",
        "# Teach hello: hihell -> ihello\n",
        "# x_data = [[0, 1, 0, 2, 3, 3]]  # hihell\n",
        "y_data = [[1, 0, 2, 3, 3, 4]]  # ihello\n",
        "\n",
        "num_classes = 5\n",
        "input_dim = 5  # one-hot size, same as hidden_size to directly predict one-hot\n",
        "sequence_length = 6  # |ihello| == 6\n",
        "learning_rate = 0.1\n",
        "\n",
        "x_one_hot = np.array([[[1, 0, 0, 0, 0],    # h 0\n",
        "                       [0, 1, 0, 0, 0],    # i 1\n",
        "                       [1, 0, 0, 0, 0],    # h 0\n",
        "                       [0, 0, 1, 0, 0],    # e 2\n",
        "                       [0, 0, 0, 1, 0],    # l 3\n",
        "                       [0, 0, 0, 1, 0]]],  # l 3\n",
        "                     dtype=np.float32)\n",
        "\n",
        "y_one_hot = tf.keras.utils.to_categorical(y_data, num_classes=num_classes)\n",
        "print(x_one_hot.shape)\n",
        "print(y_one_hot.shape)"
      ],
      "execution_count": 2,
      "outputs": [
        {
          "output_type": "stream",
          "text": [
            "(1, 6, 5)\n",
            "(1, 6, 5)\n"
          ],
          "name": "stdout"
        }
      ]
    },
    {
      "cell_type": "code",
      "metadata": {
        "id": "apYvBG4HKg-O",
        "outputId": "7e883a44-2001-4343-a340-0dbd4bfb7f3a",
        "colab": {
          "base_uri": "https://localhost:8080/",
          "height": 1000
        }
      },
      "source": [
        "tf.model = tf.keras.Sequential()\n",
        "\n",
        "# make cell and add it to RNN layer\n",
        "# input_shape = (1,6,5) => number of sequence (batch), length of sequence, size of input dim\n",
        "cell = tf.keras.layers.LSTMCell(units=num_classes, input_shape=(sequence_length, input_dim))\n",
        "tf.model.add(tf.keras.layers.RNN(cell=cell, return_sequences=True))\n",
        "\n",
        "# single LSTM layer can be used as well instead of creating LSTMCell\n",
        "# tf.model.add(tf.keras.layers.LSTM(units=num_classes, input_shape=(sequence_length, input_dim), return_sequences=True))\n",
        "\n",
        "# fully connected layer\n",
        "tf.model.add(tf.keras.layers.TimeDistributed(tf.keras.layers.Dense(units=num_classes, activation='softmax')))\n",
        "\n",
        "tf.model.compile(loss='categorical_crossentropy', optimizer=tf.keras.optimizers.Adam(lr=learning_rate),\n",
        "                 metrics=['accuracy'])\n",
        "\n",
        "# train\n",
        "tf.model.fit(x_one_hot, y_one_hot, epochs=50)\n",
        "tf.model.summary()"
      ],
      "execution_count": 3,
      "outputs": [
        {
          "output_type": "stream",
          "text": [
            "Epoch 1/50\n",
            "1/1 [==============================] - 0s 2ms/step - loss: 1.5923 - accuracy: 0.1667\n",
            "Epoch 2/50\n",
            "1/1 [==============================] - 0s 2ms/step - loss: 1.4523 - accuracy: 0.3333\n",
            "Epoch 3/50\n",
            "1/1 [==============================] - 0s 5ms/step - loss: 1.3483 - accuracy: 0.3333\n",
            "Epoch 4/50\n",
            "1/1 [==============================] - 0s 2ms/step - loss: 1.2437 - accuracy: 0.3333\n",
            "Epoch 5/50\n",
            "1/1 [==============================] - 0s 2ms/step - loss: 1.1166 - accuracy: 0.5000\n",
            "Epoch 6/50\n",
            "1/1 [==============================] - 0s 2ms/step - loss: 0.9834 - accuracy: 0.6667\n",
            "Epoch 7/50\n",
            "1/1 [==============================] - 0s 5ms/step - loss: 0.8566 - accuracy: 0.6667\n",
            "Epoch 8/50\n",
            "1/1 [==============================] - 0s 2ms/step - loss: 0.7241 - accuracy: 1.0000\n",
            "Epoch 9/50\n",
            "1/1 [==============================] - 0s 2ms/step - loss: 0.5933 - accuracy: 1.0000\n",
            "Epoch 10/50\n",
            "1/1 [==============================] - 0s 5ms/step - loss: 0.4785 - accuracy: 1.0000\n",
            "Epoch 11/50\n",
            "1/1 [==============================] - 0s 2ms/step - loss: 0.3793 - accuracy: 1.0000\n",
            "Epoch 12/50\n",
            "1/1 [==============================] - 0s 3ms/step - loss: 0.2956 - accuracy: 1.0000\n",
            "Epoch 13/50\n",
            "1/1 [==============================] - 0s 2ms/step - loss: 0.2322 - accuracy: 1.0000\n",
            "Epoch 14/50\n",
            "1/1 [==============================] - 0s 2ms/step - loss: 0.1836 - accuracy: 1.0000\n",
            "Epoch 15/50\n",
            "1/1 [==============================] - 0s 5ms/step - loss: 0.1449 - accuracy: 1.0000\n",
            "Epoch 16/50\n",
            "1/1 [==============================] - 0s 2ms/step - loss: 0.1147 - accuracy: 1.0000\n",
            "Epoch 17/50\n",
            "1/1 [==============================] - 0s 2ms/step - loss: 0.0906 - accuracy: 1.0000\n",
            "Epoch 18/50\n",
            "1/1 [==============================] - 0s 2ms/step - loss: 0.0707 - accuracy: 1.0000\n",
            "Epoch 19/50\n",
            "1/1 [==============================] - 0s 2ms/step - loss: 0.0551 - accuracy: 1.0000\n",
            "Epoch 20/50\n",
            "1/1 [==============================] - 0s 2ms/step - loss: 0.0437 - accuracy: 1.0000\n",
            "Epoch 21/50\n",
            "1/1 [==============================] - 0s 2ms/step - loss: 0.0355 - accuracy: 1.0000\n",
            "Epoch 22/50\n",
            "1/1 [==============================] - 0s 2ms/step - loss: 0.0292 - accuracy: 1.0000\n",
            "Epoch 23/50\n",
            "1/1 [==============================] - 0s 2ms/step - loss: 0.0242 - accuracy: 1.0000\n",
            "Epoch 24/50\n",
            "1/1 [==============================] - 0s 2ms/step - loss: 0.0202 - accuracy: 1.0000\n",
            "Epoch 25/50\n",
            "1/1 [==============================] - 0s 2ms/step - loss: 0.0171 - accuracy: 1.0000\n",
            "Epoch 26/50\n",
            "1/1 [==============================] - 0s 1ms/step - loss: 0.0146 - accuracy: 1.0000\n",
            "Epoch 27/50\n",
            "1/1 [==============================] - 0s 2ms/step - loss: 0.0126 - accuracy: 1.0000\n",
            "Epoch 28/50\n",
            "1/1 [==============================] - 0s 2ms/step - loss: 0.0109 - accuracy: 1.0000\n",
            "Epoch 29/50\n",
            "1/1 [==============================] - 0s 4ms/step - loss: 0.0095 - accuracy: 1.0000\n",
            "Epoch 30/50\n",
            "1/1 [==============================] - 0s 2ms/step - loss: 0.0082 - accuracy: 1.0000\n",
            "Epoch 31/50\n",
            "1/1 [==============================] - 0s 6ms/step - loss: 0.0072 - accuracy: 1.0000\n",
            "Epoch 32/50\n",
            "1/1 [==============================] - 0s 2ms/step - loss: 0.0063 - accuracy: 1.0000\n",
            "Epoch 33/50\n",
            "1/1 [==============================] - 0s 3ms/step - loss: 0.0056 - accuracy: 1.0000\n",
            "Epoch 34/50\n",
            "1/1 [==============================] - 0s 2ms/step - loss: 0.0050 - accuracy: 1.0000\n",
            "Epoch 35/50\n",
            "1/1 [==============================] - 0s 2ms/step - loss: 0.0045 - accuracy: 1.0000\n",
            "Epoch 36/50\n",
            "1/1 [==============================] - 0s 2ms/step - loss: 0.0041 - accuracy: 1.0000\n",
            "Epoch 37/50\n",
            "1/1 [==============================] - 0s 1ms/step - loss: 0.0037 - accuracy: 1.0000\n",
            "Epoch 38/50\n",
            "1/1 [==============================] - 0s 2ms/step - loss: 0.0034 - accuracy: 1.0000\n",
            "Epoch 39/50\n",
            "1/1 [==============================] - 0s 2ms/step - loss: 0.0032 - accuracy: 1.0000\n",
            "Epoch 40/50\n",
            "1/1 [==============================] - 0s 2ms/step - loss: 0.0030 - accuracy: 1.0000\n",
            "Epoch 41/50\n",
            "1/1 [==============================] - 0s 2ms/step - loss: 0.0028 - accuracy: 1.0000\n",
            "Epoch 42/50\n",
            "1/1 [==============================] - 0s 1ms/step - loss: 0.0026 - accuracy: 1.0000\n",
            "Epoch 43/50\n",
            "1/1 [==============================] - 0s 4ms/step - loss: 0.0025 - accuracy: 1.0000\n",
            "Epoch 44/50\n",
            "1/1 [==============================] - 0s 1ms/step - loss: 0.0023 - accuracy: 1.0000\n",
            "Epoch 45/50\n",
            "1/1 [==============================] - 0s 2ms/step - loss: 0.0022 - accuracy: 1.0000\n",
            "Epoch 46/50\n",
            "1/1 [==============================] - 0s 2ms/step - loss: 0.0021 - accuracy: 1.0000\n",
            "Epoch 47/50\n",
            "1/1 [==============================] - 0s 2ms/step - loss: 0.0020 - accuracy: 1.0000\n",
            "Epoch 48/50\n",
            "1/1 [==============================] - 0s 2ms/step - loss: 0.0019 - accuracy: 1.0000\n",
            "Epoch 49/50\n",
            "1/1 [==============================] - 0s 2ms/step - loss: 0.0019 - accuracy: 1.0000\n",
            "Epoch 50/50\n",
            "1/1 [==============================] - 0s 1ms/step - loss: 0.0018 - accuracy: 1.0000\n",
            "Model: \"sequential\"\n",
            "_________________________________________________________________\n",
            "Layer (type)                 Output Shape              Param #   \n",
            "=================================================================\n",
            "rnn (RNN)                    (None, 6, 5)              220       \n",
            "_________________________________________________________________\n",
            "time_distributed (TimeDistri (None, 6, 5)              30        \n",
            "=================================================================\n",
            "Total params: 250\n",
            "Trainable params: 250\n",
            "Non-trainable params: 0\n",
            "_________________________________________________________________\n"
          ],
          "name": "stdout"
        }
      ]
    },
    {
      "cell_type": "code",
      "metadata": {
        "id": "REf-ZA-vKkwE",
        "outputId": "bcb7f0f9-925b-4f59-ae1b-ff6d06805f83",
        "colab": {
          "base_uri": "https://localhost:8080/",
          "height": 143
        }
      },
      "source": [
        "predictions = tf.model.predict(x_one_hot)\n",
        "for i, prediction in enumerate(predictions):\n",
        "    print(prediction)\n",
        "    # print char using argmax, dict\n",
        "    result_str = [idx2char[c] for c in np.argmax(prediction, axis=1)]\n",
        "    print(\"\\tPrediction str: \", ''.join(result_str))"
      ],
      "execution_count": 4,
      "outputs": [
        {
          "output_type": "stream",
          "text": [
            "[[1.7770071e-03 9.9767619e-01 4.6780051e-04 4.4849673e-07 7.8629382e-05]\n",
            " [9.9736506e-01 1.2151562e-03 1.1800779e-03 2.3962966e-04 1.2974199e-07]\n",
            " [6.5184571e-04 1.0281116e-03 9.9824381e-01 7.1219103e-05 5.0844169e-06]\n",
            " [5.9377835e-05 2.0054846e-07 1.4559986e-04 9.9977762e-01 1.7153672e-05]\n",
            " [6.3100271e-07 1.1102338e-06 3.7617821e-04 9.9754971e-01 2.0723415e-03]\n",
            " [1.3128529e-09 2.0909474e-04 6.2762524e-07 7.9497532e-04 9.9899524e-01]]\n",
            "\tPrediction str:  ihello\n"
          ],
          "name": "stdout"
        }
      ]
    }
  ]
}