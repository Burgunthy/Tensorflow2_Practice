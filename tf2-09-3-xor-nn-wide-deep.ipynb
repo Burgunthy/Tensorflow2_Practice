{
  "nbformat": 4,
  "nbformat_minor": 0,
  "metadata": {
    "colab": {
      "name": "tf2.ipynb",
      "provenance": [],
      "collapsed_sections": [],
      "mount_file_id": "1ti2E9BmCArOBakWHEduad5GeN4J1dnYU",
      "authorship_tag": "ABX9TyN2Ol5NKJoGn1REDvS5OWm6",
      "include_colab_link": true
    },
    "kernelspec": {
      "name": "python3",
      "display_name": "Python 3"
    },
    "accelerator": "GPU"
  },
  "cells": [
    {
      "cell_type": "markdown",
      "metadata": {
        "id": "view-in-github",
        "colab_type": "text"
      },
      "source": [
        "<a href=\"https://colab.research.google.com/github/Burgunthy/Tensorflow2_Practice/blob/main/tf2-09-3-xor-nn-wide-deep.ipynb\" target=\"_parent\"><img src=\"https://colab.research.google.com/assets/colab-badge.svg\" alt=\"Open In Colab\"/></a>"
      ]
    },
    {
      "cell_type": "code",
      "metadata": {
        "id": "-2nnfdRQUqge"
      },
      "source": [
        "# XOR 구하기 1\n",
        "import datetime\n",
        "import numpy as np\n",
        "import os\n",
        "import tensorflow as tf"
      ],
      "execution_count": null,
      "outputs": []
    },
    {
      "cell_type": "code",
      "metadata": {
        "id": "sFajaD4AUs8z"
      },
      "source": [
        "x_data = np.array([[0, 0], [0, 1], [1, 0], [1, 1]], dtype=np.float32)\n",
        "y_data = np.array([[0], [1], [1], [0]], dtype=np.float32)\n",
        "# X 값에 따른 XOR output 설정"
      ],
      "execution_count": null,
      "outputs": []
    },
    {
      "cell_type": "code",
      "metadata": {
        "id": "IiMCVYWKUueM",
        "outputId": "9e36c2e3-3b02-47ab-ca86-fda9b507037e",
        "colab": {
          "base_uri": "https://localhost:8080/"
        }
      },
      "source": [
        "tf.model = tf.keras.Sequential()\n",
        "tf.model.add(tf.keras.layers.Dense(units=10, input_dim=2, activation='relu'))\n",
        "tf.model.add(tf.keras.layers.Dense(units=10, activation='relu'))\n",
        "tf.model.add(tf.keras.layers.Dense(units=10, activation='relu'))\n",
        "tf.model.add(tf.keras.layers.Dense(units=10, activation='relu'))\n",
        "tf.model.add(tf.keras.layers.Dense(units=1, activation='sigmoid'))\n",
        "\n",
        "# wide한 형태의 CNN 생성\n",
        "# 이때 sigmoid가 아닌 ReLU 사용 시 더욱 높은 결과 출력 가능\n",
        "\n",
        "tf.model.compile(loss='binary_crossentropy', optimizer=tf.optimizers.SGD(lr=0.1),  metrics=['accuracy'])\n",
        "# sgd -> adam으로도 가능\n",
        "tf.model.summary()"
      ],
      "execution_count": null,
      "outputs": [
        {
          "output_type": "stream",
          "text": [
            "Model: \"sequential\"\n",
            "_________________________________________________________________\n",
            "Layer (type)                 Output Shape              Param #   \n",
            "=================================================================\n",
            "dense (Dense)                (None, 10)                30        \n",
            "_________________________________________________________________\n",
            "dense_1 (Dense)              (None, 10)                110       \n",
            "_________________________________________________________________\n",
            "dense_2 (Dense)              (None, 10)                110       \n",
            "_________________________________________________________________\n",
            "dense_3 (Dense)              (None, 10)                110       \n",
            "_________________________________________________________________\n",
            "dense_4 (Dense)              (None, 1)                 11        \n",
            "=================================================================\n",
            "Total params: 371\n",
            "Trainable params: 371\n",
            "Non-trainable params: 0\n",
            "_________________________________________________________________\n"
          ],
          "name": "stdout"
        }
      ]
    },
    {
      "cell_type": "code",
      "metadata": {
        "id": "MC1vxYph8raR"
      },
      "source": [
        "#log_dir = os.path.join(\".\", \"logs\", \"fit\", datetime.datetime.now().strftime(\"%Y%m%d-%H%M%S\"))\n",
        "#tensorboard_callback = tf.keras.callbacks.TensorBoard(log_dir=log_dir, histogram_freq=1)\n",
        "\n",
        "# Tensorboard 사용. -> final project 참고"
      ],
      "execution_count": null,
      "outputs": []
    },
    {
      "cell_type": "code",
      "metadata": {
        "id": "md3BFDj18pCy"
      },
      "source": [
        "history = tf.model.fit(x_data, y_data, epochs=1000)\n",
        "# epochs = 1000 -> acc : 0.5\n",
        "\n",
        "# history = tf.model.fit(x_data, y_data, epochs=25000, callbacks=[tensorboard_callback])    텐서 보드 생성 가능"
      ],
      "execution_count": null,
      "outputs": []
    },
    {
      "cell_type": "code",
      "metadata": {
        "id": "D3haoznDUxPE",
        "outputId": "9d966c5c-11f6-42cd-8421-be4edc7de0a1",
        "colab": {
          "base_uri": "https://localhost:8080/"
        }
      },
      "source": [
        "predictions = tf.model.predict(x_data)\n",
        "print('Prediction: \\n', predictions)\n",
        "# 예측 모델\n",
        "\n",
        "score = tf.model.evaluate(x_data, y_data)\n",
        "\n",
        "# 이전의 nn 기존 모델과의 비교\n",
        "# 이전 모델 : 2 -> 2 -> 1\n",
        "# 1000 epoch, 0.6931 loss, 0.5 acc \n",
        "\n",
        "print('Accuracy: ', score[1])"
      ],
      "execution_count": null,
      "outputs": [
        {
          "output_type": "stream",
          "text": [
            "Prediction: \n",
            " [[1.7208322e-03]\n",
            " [9.9918216e-01]\n",
            " [9.9832088e-01]\n",
            " [6.2980177e-04]]\n",
            "1/1 [==============================] - 0s 4ms/step - loss: 0.0012 - accuracy: 1.0000\n",
            "Accuracy:  1.0\n"
          ],
          "name": "stdout"
        }
      ]
    }
  ]
}