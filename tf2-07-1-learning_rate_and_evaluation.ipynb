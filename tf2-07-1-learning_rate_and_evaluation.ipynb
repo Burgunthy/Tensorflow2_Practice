{
  "nbformat": 4,
  "nbformat_minor": 0,
  "metadata": {
    "colab": {
      "name": "tf2_2.ipynb",
      "provenance": [],
      "authorship_tag": "ABX9TyN/o4YBErd6+7ASRXLDryHc",
      "include_colab_link": true
    },
    "kernelspec": {
      "name": "python3",
      "display_name": "Python 3"
    }
  },
  "cells": [
    {
      "cell_type": "markdown",
      "metadata": {
        "id": "view-in-github",
        "colab_type": "text"
      },
      "source": [
        "<a href=\"https://colab.research.google.com/github/Burgunthy/Tensorflow2_Practice/blob/main/tf2-07-1-learning_rate_and_evaluation.ipynb\" target=\"_parent\"><img src=\"https://colab.research.google.com/assets/colab-badge.svg\" alt=\"Open In Colab\"/></a>"
      ]
    },
    {
      "cell_type": "code",
      "metadata": {
        "id": "VgODWl6zOHQr"
      },
      "source": [
        "# Lab 7 Learning rate and Evaluation\n",
        "# Train과 Test. lr을 잘 설정해야한다.\n",
        "# 이후 실습에서는 val 확인\n",
        "\n",
        "import tensorflow as tf"
      ],
      "execution_count": 7,
      "outputs": []
    },
    {
      "cell_type": "code",
      "metadata": {
        "id": "iWbmh3CXOHVq"
      },
      "source": [
        "x_data = [[1, 2, 1],\n",
        "          [1, 3, 2],\n",
        "          [1, 3, 4],\n",
        "          [1, 5, 5],\n",
        "          [1, 7, 5],\n",
        "          [1, 2, 5],\n",
        "          [1, 6, 6],\n",
        "          [1, 7, 7]]\n",
        "y_data = [[0, 0, 1],\n",
        "          [0, 0, 1],\n",
        "          [0, 0, 1],\n",
        "          [0, 1, 0],\n",
        "          [0, 1, 0],\n",
        "          [0, 1, 0],\n",
        "          [1, 0, 0],\n",
        "          [1, 0, 0]]\n",
        "# Train\n",
        "\n",
        "x_test = [[2, 1, 1],\n",
        "          [3, 1, 2],\n",
        "          [3, 3, 4]]\n",
        "y_test = [[0, 0, 1],\n",
        "          [0, 0, 1],\n",
        "          [0, 0, 1]]\n",
        "# Test\n",
        "\n",
        "learning_rate = 0.1\n",
        "\n",
        "# learning_rate = 65535  # 너무 크다면 오류가 발생한다\n",
        "# learning_rate = 1e-10  # 너무 작다면 시간 내 학습이 불가하다"
      ],
      "execution_count": 8,
      "outputs": []
    },
    {
      "cell_type": "code",
      "metadata": {
        "id": "H7dBLNxBOHZp"
      },
      "source": [
        "tf.model = tf.keras.Sequential()\n",
        "tf.model.add(tf.keras.layers.Dense(units=3, input_dim=3, activation='softmax'))\n",
        "# one hot encoding\n",
        "tf.model.compile(loss='categorical_crossentropy', optimizer=tf.keras.optimizers.SGD(lr=learning_rate), metrics=['accuracy'])\n",
        "\n",
        "tf.model.fit(x_data, y_data, epochs=1000)"
      ],
      "execution_count": null,
      "outputs": []
    },
    {
      "cell_type": "code",
      "metadata": {
        "id": "M-mN-nNfONoB",
        "outputId": "5e8b92a2-1cb2-4610-a0ad-5925c1fcb741",
        "colab": {
          "base_uri": "https://localhost:8080/",
          "height": 71
        }
      },
      "source": [
        "# predict\n",
        "print(\"Prediction: \", tf.model.predict_classes(x_test))\n",
        "\n",
        "# Calculate the accuracy\n",
        "print(\"Accuracy: \", tf.model.evaluate(x_test, y_test)[1])"
      ],
      "execution_count": 10,
      "outputs": [
        {
          "output_type": "stream",
          "text": [
            "Prediction:  [2 2 2]\n",
            "1/1 [==============================] - 0s 2ms/step - loss: 2.7650e-04 - accuracy: 1.0000\n",
            "Accuracy:  1.0\n"
          ],
          "name": "stdout"
        }
      ]
    }
  ]
}