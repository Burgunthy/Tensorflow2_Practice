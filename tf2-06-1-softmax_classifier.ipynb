{
  "nbformat": 4,
  "nbformat_minor": 0,
  "metadata": {
    "colab": {
      "name": "tf2_2.ipynb",
      "provenance": [],
      "authorship_tag": "ABX9TyMy13pONrEUZ0FTBM3xDESU",
      "include_colab_link": true
    },
    "kernelspec": {
      "name": "python3",
      "display_name": "Python 3"
    }
  },
  "cells": [
    {
      "cell_type": "markdown",
      "metadata": {
        "id": "view-in-github",
        "colab_type": "text"
      },
      "source": [
        "<a href=\"https://colab.research.google.com/github/Burgunthy/Tensorflow2_Practice/blob/main/tf2-06-1-softmax_classifier.ipynb\" target=\"_parent\"><img src=\"https://colab.research.google.com/assets/colab-badge.svg\" alt=\"Open In Colab\"/></a>"
      ]
    },
    {
      "cell_type": "code",
      "metadata": {
        "id": "myV0hDrbuGJG"
      },
      "source": [
        "# softmax classifier\n",
        "\n",
        "import tensorflow as tf\n",
        "import numpy as np"
      ],
      "execution_count": 1,
      "outputs": []
    },
    {
      "cell_type": "code",
      "metadata": {
        "id": "0Ifus9W6uKXu"
      },
      "source": [
        "x_raw = [[1, 2, 1, 1],\n",
        "          [2, 1, 3, 2],\n",
        "          [3, 1, 3, 4],\n",
        "          [4, 1, 5, 5],\n",
        "          [1, 7, 5, 5],\n",
        "          [1, 2, 5, 6],\n",
        "          [1, 6, 6, 6],\n",
        "          [1, 7, 7, 7]]\n",
        "y_raw = [[0, 0, 1],\n",
        "          [0, 0, 1],\n",
        "          [0, 0, 1],\n",
        "          [0, 1, 0],\n",
        "          [0, 1, 0],\n",
        "          [0, 1, 0],\n",
        "          [1, 0, 0],\n",
        "          [1, 0, 0]]\n",
        "\n",
        "x_data = np.array(x_raw, dtype=np.float32)\n",
        "y_data = np.array(y_raw, dtype=np.float32)\n",
        "# x_raw, y_raw를 float 형태로 변환\n",
        "\n",
        "nb_classes = 3\n",
        "# 선언도 괜찮지만 x_data.shape[1]과 같이 사용 가능"
      ],
      "execution_count": 2,
      "outputs": []
    },
    {
      "cell_type": "code",
      "metadata": {
        "id": "cTIVoa3kuVPl"
      },
      "source": [
        "tf.model = tf.keras.Sequential()\n",
        "tf.model.add(tf.keras.layers.Dense(input_dim=4, units=nb_classes, use_bias=True))\n",
        "# use_bias = True, 디폴트\n",
        "\n",
        "# use softmax activations: softmax = exp(logits) / reduce_sum(exp(logits), dim)\n",
        "tf.model.add(tf.keras.layers.Activation('softmax'))\n",
        "# 결과값이 여러개로 이루어져 있으므로 softmax 사용\n",
        "\n",
        "# use loss == categorical_crossentropy\n",
        "tf.model.compile(loss='categorical_crossentropy', optimizer=tf.keras.optimizers.SGD(lr=0.1), metrics=['accuracy'])\n",
        "# 해당 loss 이용 시 one hot encoding 필요\n",
        "# sparse_categorical_crossentropy -> one hot encoding된 형태로 출력된다\n",
        "\n",
        "tf.model.summary()\n",
        "\n",
        "history = tf.model.fit(x_data, y_data, epochs=2000)"
      ],
      "execution_count": null,
      "outputs": []
    },
    {
      "cell_type": "code",
      "metadata": {
        "id": "WmB_hdUQuXVN",
        "outputId": "0706ee55-e7ab-4f11-f6e7-c7a874afa4b7",
        "colab": {
          "base_uri": "https://localhost:8080/",
          "height": 197
        }
      },
      "source": [
        "print('--------------')\n",
        "# Testing & One-hot encoding\n",
        "a = tf.model.predict(np.array([[1, 11, 7, 9]]))\n",
        "print(a, tf.keras.backend.eval(tf.argmax(a, axis=1)))\n",
        "\n",
        "print('--------------')\n",
        "b = tf.model.predict(np.array([[1, 3, 4, 3]]))\n",
        "print(b, tf.keras.backend.eval(tf.argmax(b, axis=1)))\n",
        "\n",
        "print('--------------')\n",
        "# or use argmax embedded method, predict_classes\n",
        "c = tf.model.predict(np.array([[1, 1, 0, 1]]))\n",
        "c_onehot = tf.model.predict_classes(np.array([[1, 1, 0, 1]]))\n",
        "print(c, c_onehot)\n",
        "\n",
        "print('--------------')\n",
        "# 한번에도 사용 가능\n",
        "all = tf.model.predict(np.array([[1, 11, 7, 9], [1, 3, 4, 3], [1, 1, 0, 1]]))\n",
        "all_onehot = tf.model.predict_classes(np.array([[1, 11, 7, 9], [1, 3, 4, 3], [1, 1, 0, 1]]))\n",
        "print(all, all_onehot)"
      ],
      "execution_count": 6,
      "outputs": [
        {
          "output_type": "stream",
          "text": [
            "--------------\n",
            "[[3.2084093e-03 9.9678326e-01 8.2792212e-06]] [1]\n",
            "--------------\n",
            "[[0.88989997 0.10141009 0.00869003]] [0]\n",
            "--------------\n",
            "[[1.0453585e-08 3.1753207e-04 9.9968243e-01]] [2]\n",
            "--------------\n",
            "[[3.20840464e-03 9.96783257e-01 8.27921303e-06]\n",
            " [8.89899969e-01 1.01410106e-01 8.69003590e-03]\n",
            " [1.04535651e-08 3.17531783e-04 9.99682426e-01]] [1 0 2]\n"
          ],
          "name": "stdout"
        }
      ]
    }
  ]
}