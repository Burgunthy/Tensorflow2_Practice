{
  "nbformat": 4,
  "nbformat_minor": 0,
  "metadata": {
    "colab": {
      "name": "tf2.ipynb",
      "provenance": [],
      "collapsed_sections": [],
      "authorship_tag": "ABX9TyOwlV8g+NVQfM6S+zhsWQY8",
      "include_colab_link": true
    },
    "kernelspec": {
      "name": "python3",
      "display_name": "Python 3"
    }
  },
  "cells": [
    {
      "cell_type": "markdown",
      "metadata": {
        "id": "view-in-github",
        "colab_type": "text"
      },
      "source": [
        "<a href=\"https://colab.research.google.com/github/Burgunthy/MNIST_Tensorflow2/blob/main/tf2-04-1-multi_variable_linear_regression.ipynb\" target=\"_parent\"><img src=\"https://colab.research.google.com/assets/colab-badge.svg\" alt=\"Open In Colab\"/></a>"
      ]
    },
    {
      "cell_type": "code",
      "metadata": {
        "id": "m9ZLOe_7Uj9m"
      },
      "source": [
        "# 3가지의 입력 값을 통해 Y를 예측하는 모델\n",
        "\n",
        "\n",
        "import tensorflow as tf\n",
        "import numpy as np"
      ],
      "execution_count": 2,
      "outputs": []
    },
    {
      "cell_type": "code",
      "metadata": {
        "id": "b9mGQL6-eGbD"
      },
      "source": [
        "x_data = [[73., 80., 75.],\n",
        "          [93., 88., 93.],\n",
        "          [89., 91., 90.],\n",
        "          [96., 98., 100.],\n",
        "          [73., 66., 70.]]                                  # x는 5명의 3개 점수 (5 x 3)\n",
        "\n",
        "y_data = [[152.],\n",
        "          [185.],\n",
        "          [180.],\n",
        "          [196.],\n",
        "          [142.]]                                           # Y는 5명의 점수 Y (5 x 1)\n",
        "                                                            # 따라서 (3 x 1)이 필요하다\n",
        "\n",
        "tf.model = tf.keras.Sequential()                            # tf2에서 keras의 Sequential. tf.model을 이용\n",
        "                                                            # add 함수를 통해 모델을 더한다\n",
        "\n",
        "tf.model.add(tf.keras.layers.Dense(units=1, input_dim=3))   # (3 x 1)의 역할 진행\n",
        "tf.model.add(tf.keras.layers.Activation('linear'))          # 선형 활성화 함수 사용\n",
        "                                                            # signoid, tanh, ... 등등 다양한 함수 존재\n",
        "\n",
        "\n",
        "tf.model.compile(loss='mse', optimizer=tf.keras.optimizers.SGD(lr=1e-5))    # 앞선 실습과는 다르게 SGD 바로 입력 가능\n",
        "\n",
        "\n",
        "tf.model.summary()\n",
        "history = tf.model.fit(x_data, y_data, epochs=100)\n",
        "\n",
        "y_predict = tf.model.predict(np.array([[72., 93., 90.]]))\n",
        "print(y_predict)"
      ],
      "execution_count": null,
      "outputs": []
    },
    {
      "cell_type": "code",
      "metadata": {
        "id": "L_5rk-q1f8-0",
        "outputId": "caae82a6-ee67-460c-b866-6f892abf7f97",
        "colab": {
          "base_uri": "https://localhost:8080/",
          "height": 331
        }
      },
      "source": [
        "print(y_predict)\n",
        "\n",
        "print(history.history.keys())                               # 현재는 loss만 확인 가능 -> 언제 추가되는지 확인\n",
        "\n",
        "plt.plot(history.history['loss'])                           # loss의 history 확인\n",
        "\n",
        "\n",
        "plt.title('Model loss')                                     # 모델의 이름 설정\n",
        "plt.ylabel('Loss')                                          # 모델의 y축 이름 설정\n",
        "plt.xlabel('Epoch')                                         # 모델의 x축 이름 설정    \n",
        "plt.legend(['Train', 'Test'], loc='upper left')             # 위쪽 작은 상자 표시\n",
        "plt.show()                                                  # 그래프 plot"
      ],
      "execution_count": 14,
      "outputs": [
        {
          "output_type": "stream",
          "text": [
            "[[173.01352]]\n",
            "dict_keys(['loss'])\n"
          ],
          "name": "stdout"
        },
        {
          "output_type": "display_data",
          "data": {
            "image/png": "[encoded data removed]",
            "text/plain": [
              "<Figure size 432x288 with 1 Axes>"
            ]
          },
          "metadata": {
            "tags": [],
            "needs_background": "light"
          }
        }
      ]
    }
  ]
}