{
  "nbformat": 4,
  "nbformat_minor": 0,
  "metadata": {
    "colab": {
      "name": "tf2.ipynb",
      "provenance": [],
      "collapsed_sections": [],
      "mount_file_id": "1ti2E9BmCArOBakWHEduad5GeN4J1dnYU",
      "authorship_tag": "ABX9TyN/PKva9Uq+0MoiYSGnLWnV",
      "include_colab_link": true
    },
    "kernelspec": {
      "name": "python3",
      "display_name": "Python 3"
    },
    "accelerator": "GPU"
  },
  "cells": [
    {
      "cell_type": "markdown",
      "metadata": {
        "id": "view-in-github",
        "colab_type": "text"
      },
      "source": [
        "<a href=\"https://colab.research.google.com/github/Burgunthy/Tensorflow2_Practice/blob/main/tf2-09-1-xor_fail.ipynb\" target=\"_parent\"><img src=\"https://colab.research.google.com/assets/colab-badge.svg\" alt=\"Open In Colab\"/></a>"
      ]
    },
    {
      "cell_type": "code",
      "metadata": {
        "id": "-2nnfdRQUqge"
      },
      "source": [
        "# XOR 구하기 1\n",
        "import tensorflow as tf\n",
        "import numpy as np"
      ],
      "execution_count": 1,
      "outputs": []
    },
    {
      "cell_type": "code",
      "metadata": {
        "id": "sFajaD4AUs8z"
      },
      "source": [
        "x_data = np.array([[0, 0], [0, 1], [1, 0], [1, 1]], dtype=np.float32)\n",
        "y_data = np.array([[0], [1], [1], [0]], dtype=np.float32)\n",
        "# X 값에 따른 XOR output 설정"
      ],
      "execution_count": 2,
      "outputs": []
    },
    {
      "cell_type": "code",
      "metadata": {
        "id": "IiMCVYWKUueM"
      },
      "source": [
        "tf.model = tf.keras.Sequential()\n",
        "tf.model.add(tf.keras.layers.Dense(units=1, input_dim=2, activation='sigmoid'))\n",
        "# 단순한 output을 구하기 위한 layer를 하나 설정한다\n",
        "\n",
        "tf.model.compile(loss='binary_crossentropy', optimizer=tf.optimizers.SGD(lr=0.01),  metrics=['accuracy'])\n",
        "tf.model.summary()\n",
        "\n",
        "history = tf.model.fit(x_data, y_data, epochs=1000)"
      ],
      "execution_count": null,
      "outputs": []
    },
    {
      "cell_type": "code",
      "metadata": {
        "id": "D3haoznDUxPE",
        "outputId": "43331c6a-c8e9-4dab-b2c2-298cabef248e",
        "colab": {
          "base_uri": "https://localhost:8080/",
          "height": 161
        }
      },
      "source": [
        "predictions = tf.model.predict(x_data)\n",
        "print('Prediction: \\n', predictions)\n",
        "# 예측 모델\n",
        "\n",
        "score = tf.model.evaluate(x_data, y_data)\n",
        "# 확인 모델\n",
        "# score[0] = loss, score[1] = acc\n",
        "\n",
        "print('Accuracy: ', score[1])\n",
        "# Acc 0.5로 정확한 판단이 불가능하다"
      ],
      "execution_count": 16,
      "outputs": [
        {
          "output_type": "stream",
          "text": [
            "Prediction: \n",
            " [[0.40241554]\n",
            " [0.56112784]\n",
            " [0.41764286]\n",
            " [0.5765664 ]]\n",
            "1/1 [==============================] - 0s 1ms/step - loss: 0.7063 - accuracy: 0.5000\n",
            "0.7062883377075195\n",
            "Accuracy:  0.5\n"
          ],
          "name": "stdout"
        }
      ]
    }
  ]
}